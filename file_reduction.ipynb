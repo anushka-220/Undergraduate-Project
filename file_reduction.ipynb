{
 "cells": [
  {
   "cell_type": "code",
   "execution_count": 1,
   "metadata": {},
   "outputs": [],
   "source": [
    "import scenvi\n",
    "import scanpy as sc\n",
    "import anndata as ad\n",
    "import matplotlib as plt\n",
    "import numpy as np"
   ]
  },
  {
   "cell_type": "code",
   "execution_count": 2,
   "metadata": {},
   "outputs": [],
   "source": [
    "sc_data = sc.read_h5ad('/Users/anushka/Undergraduate-Project/MERFISH_Data/sc_data_1.h5ad')\n",
    "st_data=sc.read_h5ad('/Users/anushka/Undergraduate-Project/MERFISH_Data/st_data.h5ad')"
   ]
  },
  {
   "cell_type": "code",
   "execution_count": 4,
   "metadata": {},
   "outputs": [
    {
     "name": "stdout",
     "output_type": "stream",
     "text": [
      "Number of genes after filtering: 6978\n"
     ]
    }
   ],
   "source": [
    "adata_sc = sc_data\n",
    "# Filter genes expressed in less than X cells (adjust X based on your data)\n",
    "min_cells = 3000# Example: Keep genes expressed in at least 5 cells\n",
    "sc.pp.filter_genes(adata_sc, min_cells=min_cells)\n",
    "\n",
    "print(f\"Number of genes after filtering: {adata_sc.n_vars}\")"
   ]
  },
  {
   "cell_type": "code",
   "execution_count": 5,
   "metadata": {},
   "outputs": [
    {
     "name": "stdout",
     "output_type": "stream",
     "text": [
      "sc data saved to: MERFISH_Data/sc_data_processed.h5ad\n"
     ]
    }
   ],
   "source": [
    "import os\n",
    "\n",
    "merfish_data_dir = \"MERFISH_Data\"\n",
    "if not os.path.exists(merfish_data_dir):\n",
    "    os.makedirs(merfish_data_dir)\n",
    "\n",
    "# Construct the full file paths for saving the processed data\n",
    "sc_data_path = os.path.join(merfish_data_dir, \"sc_data_processed.h5ad\")\n",
    "st_data_path = os.path.join(merfish_data_dir, \"st_data_processed.h5ad\")\n",
    "\n",
    "# Save the processed data to the specified paths\n",
    "adata_sc.write(sc_data_path)\n",
    "\n",
    "print(f\"sc data saved to: {sc_data_path}\")"
   ]
  }
 ],
 "metadata": {
  "kernelspec": {
   "display_name": "octopus",
   "language": "python",
   "name": "python3"
  },
  "language_info": {
   "codemirror_mode": {
    "name": "ipython",
    "version": 3
   },
   "file_extension": ".py",
   "mimetype": "text/x-python",
   "name": "python",
   "nbconvert_exporter": "python",
   "pygments_lexer": "ipython3",
   "version": "3.9.18"
  }
 },
 "nbformat": 4,
 "nbformat_minor": 2
}
