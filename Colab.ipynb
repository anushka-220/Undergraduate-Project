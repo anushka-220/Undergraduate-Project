{
  "nbformat": 4,
  "nbformat_minor": 0,
  "metadata": {
    "colab": {
      "provenance": [],
      "toc_visible": true,
      "gpuType": "T4",
      "authorship_tag": "ABX9TyMEX1T8bHs/3zLAyBM5dFkz",
      "include_colab_link": true
    },
    "kernelspec": {
      "name": "python3",
      "display_name": "Python 3"
    },
    "language_info": {
      "name": "python"
    },
    "accelerator": "GPU"
  },
  "cells": [
    {
      "cell_type": "markdown",
      "metadata": {
        "id": "view-in-github",
        "colab_type": "text"
      },
      "source": [
        "<a href=\"https://colab.research.google.com/github/anushka-220/Undergraduate-Project/blob/main/Colab.ipynb\" target=\"_parent\"><img src=\"https://colab.research.google.com/assets/colab-badge.svg\" alt=\"Open In Colab\"/></a>"
      ]
    },
    {
      "cell_type": "code",
      "execution_count": 1,
      "metadata": {
        "id": "qme8AQSrcih1"
      },
      "outputs": [],
      "source": [
        "!pip install -q condacolab"
      ]
    },
    {
      "cell_type": "code",
      "source": [
        "import condacolab\n",
        "condacolab.install()"
      ],
      "metadata": {
        "colab": {
          "base_uri": "https://localhost:8080/"
        },
        "id": "8Rfo6drxcsTx",
        "outputId": "324438f3-785f-428f-bfd1-c8bfe8110944"
      },
      "execution_count": 1,
      "outputs": [
        {
          "output_type": "stream",
          "name": "stdout",
          "text": [
            "✨🍰✨ Everything looks OK!\n"
          ]
        }
      ]
    },
    {
      "cell_type": "code",
      "source": [
        "!conda create -n py3918 python=3.9.18 -y\n"
      ],
      "metadata": {
        "colab": {
          "base_uri": "https://localhost:8080/"
        },
        "id": "MpdaRddudCMM",
        "outputId": "2619ae55-aac4-425a-92fc-81b6f593de32"
      },
      "execution_count": 2,
      "outputs": [
        {
          "output_type": "stream",
          "name": "stdout",
          "text": [
            "Channels:\n",
            " - conda-forge\n",
            "Platform: linux-64\n",
            "Collecting package metadata (repodata.json): - \b\b\\ \b\b| \b\b/ \b\b- \b\b\\ \b\b| \b\b/ \b\b- \b\b\\ \b\b| \b\b/ \b\b- \b\b\\ \b\b| \b\b/ \b\b- \b\b\\ \b\b| \b\b/ \b\b- \b\bdone\n",
            "Solving environment: | \b\b/ \b\bdone\n",
            "\n",
            "\n",
            "==> WARNING: A newer version of conda exists. <==\n",
            "    current version: 24.11.2\n",
            "    latest version: 25.1.1\n",
            "\n",
            "Please update conda by running\n",
            "\n",
            "    $ conda update -n base -c conda-forge conda\n",
            "\n",
            "\n",
            "\n",
            "## Package Plan ##\n",
            "\n",
            "  environment location: /usr/local/envs/py3918\n",
            "\n",
            "  added / updated specs:\n",
            "    - python=3.9.18\n",
            "\n",
            "\n",
            "The following NEW packages will be INSTALLED:\n",
            "\n",
            "  _libgcc_mutex      conda-forge/linux-64::_libgcc_mutex-0.1-conda_forge \n",
            "  _openmp_mutex      conda-forge/linux-64::_openmp_mutex-4.5-2_gnu \n",
            "  bzip2              conda-forge/linux-64::bzip2-1.0.8-h4bc722e_7 \n",
            "  ca-certificates    conda-forge/linux-64::ca-certificates-2025.1.31-hbcca054_0 \n",
            "  ld_impl_linux-64   conda-forge/linux-64::ld_impl_linux-64-2.43-h712a8e2_2 \n",
            "  libffi             conda-forge/linux-64::libffi-3.4.2-h7f98852_5 \n",
            "  libgcc             conda-forge/linux-64::libgcc-14.2.0-h77fa898_1 \n",
            "  libgcc-ng          conda-forge/linux-64::libgcc-ng-14.2.0-h69a702a_1 \n",
            "  libgomp            conda-forge/linux-64::libgomp-14.2.0-h77fa898_1 \n",
            "  liblzma            conda-forge/linux-64::liblzma-5.6.4-hb9d3cd8_0 \n",
            "  liblzma-devel      conda-forge/linux-64::liblzma-devel-5.6.4-hb9d3cd8_0 \n",
            "  libnsl             conda-forge/linux-64::libnsl-2.0.1-hd590300_0 \n",
            "  libsqlite          conda-forge/linux-64::libsqlite-3.48.0-hee588c1_1 \n",
            "  libuuid            conda-forge/linux-64::libuuid-2.38.1-h0b41bf4_0 \n",
            "  libxcrypt          conda-forge/linux-64::libxcrypt-4.4.36-hd590300_1 \n",
            "  libzlib            conda-forge/linux-64::libzlib-1.3.1-hb9d3cd8_2 \n",
            "  ncurses            conda-forge/linux-64::ncurses-6.5-h2d0b736_3 \n",
            "  openssl            conda-forge/linux-64::openssl-3.4.0-h7b32b05_1 \n",
            "  pip                conda-forge/noarch::pip-25.0-pyh8b19718_0 \n",
            "  python             conda-forge/linux-64::python-3.9.18-h0755675_1_cpython \n",
            "  readline           conda-forge/linux-64::readline-8.2-h8228510_1 \n",
            "  setuptools         conda-forge/noarch::setuptools-75.8.0-pyhff2d567_0 \n",
            "  tk                 conda-forge/linux-64::tk-8.6.13-noxft_h4845f30_101 \n",
            "  tzdata             conda-forge/noarch::tzdata-2025a-h78e105d_0 \n",
            "  wheel              conda-forge/noarch::wheel-0.45.1-pyhd8ed1ab_1 \n",
            "  xz                 conda-forge/linux-64::xz-5.6.4-hbcc6ac9_0 \n",
            "  xz-gpl-tools       conda-forge/linux-64::xz-gpl-tools-5.6.4-hbcc6ac9_0 \n",
            "  xz-tools           conda-forge/linux-64::xz-tools-5.6.4-hb9d3cd8_0 \n",
            "\n",
            "\n",
            "\n",
            "Downloading and Extracting Packages:\n",
            "\n",
            "Preparing transaction: - \b\b\\ \b\bdone\n",
            "Verifying transaction: / \b\b- \b\b\\ \b\b| \b\b/ \b\b- \b\b\\ \b\b| \b\b/ \b\b- \b\b\\ \b\bdone\n",
            "Executing transaction: / \b\b- \b\b\\ \b\b| \b\b/ \b\b- \b\b\\ \b\b| \b\b/ \b\b- \b\b\\ \b\b| \b\b/ \b\b- \b\b\\ \b\b| \b\b/ \b\b- \b\b\\ \b\b| \b\b/ \b\b- \b\b\\ \b\b| \b\b/ \b\b- \b\b\\ \b\b| \b\b/ \b\b- \b\b\\ \b\b| \b\b/ \b\b- \b\b\\ \b\b| \b\b/ \b\bdone\n",
            "#\n",
            "# To activate this environment, use\n",
            "#\n",
            "#     $ conda activate py3918\n",
            "#\n",
            "# To deactivate an active environment, use\n",
            "#\n",
            "#     $ conda deactivate\n",
            "\n"
          ]
        }
      ]
    },
    {
      "cell_type": "code",
      "source": [
        "!source activate py3918"
      ],
      "metadata": {
        "id": "VEIclgTWdeMn"
      },
      "execution_count": 3,
      "outputs": []
    },
    {
      "cell_type": "code",
      "source": [
        "!conda run -n py3918 python --version"
      ],
      "metadata": {
        "colab": {
          "base_uri": "https://localhost:8080/"
        },
        "id": "jR0N7x-ldn2U",
        "outputId": "ccef2048-81af-4ac4-c10f-3e32e7b0dfaa"
      },
      "execution_count": 5,
      "outputs": [
        {
          "output_type": "stream",
          "name": "stdout",
          "text": [
            "Python 3.9.18\n",
            "\n"
          ]
        }
      ]
    },
    {
      "cell_type": "code",
      "source": [
        "!git clone https://github.com/bhargavchippada/forceatlas2.git\n"
      ],
      "metadata": {
        "colab": {
          "base_uri": "https://localhost:8080/"
        },
        "id": "quZ1iNamfsSI",
        "outputId": "b5b829a5-e03f-4a46-b4b0-af6d21e485b9"
      },
      "execution_count": 7,
      "outputs": [
        {
          "output_type": "stream",
          "name": "stdout",
          "text": [
            "Cloning into 'forceatlas2'...\n",
            "remote: Enumerating objects: 232, done.\u001b[K\n",
            "remote: Counting objects: 100% (90/90), done.\u001b[K\n",
            "remote: Compressing objects: 100% (16/16), done.\u001b[K\n",
            "remote: Total 232 (delta 78), reused 74 (delta 74), pack-reused 142 (from 1)\u001b[K\n",
            "Receiving objects: 100% (232/232), 502.31 KiB | 2.15 MiB/s, done.\n",
            "Resolving deltas: 100% (134/134), done.\n"
          ]
        }
      ]
    },
    {
      "cell_type": "code",
      "source": [
        "!pip install cython"
      ],
      "metadata": {
        "colab": {
          "base_uri": "https://localhost:8080/"
        },
        "id": "krXoDZoWkJsO",
        "outputId": "a3f9b6f0-1162-415a-be00-ba0dffa38695"
      },
      "execution_count": 4,
      "outputs": [
        {
          "output_type": "stream",
          "name": "stdout",
          "text": [
            "Requirement already satisfied: cython in /usr/local/lib/python3.11/site-packages (3.0.11)\n"
          ]
        }
      ]
    },
    {
      "cell_type": "code",
      "source": [
        "!conda install -c conda-forge fa2\n",
        "\n"
      ],
      "metadata": {
        "colab": {
          "base_uri": "https://localhost:8080/"
        },
        "id": "VsDTTbj9k51u",
        "outputId": "016be130-e83a-4916-b1be-5773e6689d0e"
      },
      "execution_count": 10,
      "outputs": [
        {
          "output_type": "stream",
          "name": "stdout",
          "text": [
            "Channels:\n",
            " - conda-forge\n",
            "Platform: linux-64\n",
            "Collecting package metadata (repodata.json): - \b\b\\ \b\b| \b\b/ \b\b- \b\b\\ \b\b| \b\b/ \b\bdone\n",
            "Solving environment: \\ \b\b| \b\b/ \b\b- \b\bdone\n",
            "\n",
            "## Package Plan ##\n",
            "\n",
            "  environment location: /usr/local\n",
            "\n",
            "  added / updated specs:\n",
            "    - fa2\n",
            "\n",
            "\n",
            "The following packages will be downloaded:\n",
            "\n",
            "    package                    |            build\n",
            "    ---------------------------|-----------------\n",
            "    conda-24.11.3              |  py311h38be061_0         1.1 MB  conda-forge\n",
            "    fa2-0.3.5                  |  py311hd4cff14_2          97 KB  conda-forge\n",
            "    libblas-3.9.0              |28_h59b9bed_openblas          16 KB  conda-forge\n",
            "    libcblas-3.9.0             |28_he106b2a_openblas          16 KB  conda-forge\n",
            "    libgfortran-14.2.0         |       h69a702a_1          53 KB  conda-forge\n",
            "    libgfortran5-14.2.0        |       hd5240d6_1         1.4 MB  conda-forge\n",
            "    liblapack-3.9.0            |28_h7ac8fdf_openblas          16 KB  conda-forge\n",
            "    libopenblas-0.3.28         |pthreads_h94d23a6_1         5.3 MB  conda-forge\n",
            "    numpy-2.2.2                |  py311h5d046bc_0         8.6 MB  conda-forge\n",
            "    scipy-1.15.1               |  py311hc1ac118_0        18.3 MB  conda-forge\n",
            "    ------------------------------------------------------------\n",
            "                                           Total:        35.0 MB\n",
            "\n",
            "The following NEW packages will be INSTALLED:\n",
            "\n",
            "  fa2                conda-forge/linux-64::fa2-0.3.5-py311hd4cff14_2 \n",
            "  libblas            conda-forge/linux-64::libblas-3.9.0-28_h59b9bed_openblas \n",
            "  libcblas           conda-forge/linux-64::libcblas-3.9.0-28_he106b2a_openblas \n",
            "  libgfortran        conda-forge/linux-64::libgfortran-14.2.0-h69a702a_1 \n",
            "  libgfortran5       conda-forge/linux-64::libgfortran5-14.2.0-hd5240d6_1 \n",
            "  liblapack          conda-forge/linux-64::liblapack-3.9.0-28_h7ac8fdf_openblas \n",
            "  libopenblas        conda-forge/linux-64::libopenblas-0.3.28-pthreads_h94d23a6_1 \n",
            "  numpy              conda-forge/linux-64::numpy-2.2.2-py311h5d046bc_0 \n",
            "  scipy              conda-forge/linux-64::scipy-1.15.1-py311hc1ac118_0 \n",
            "\n",
            "The following packages will be UPDATED:\n",
            "\n",
            "  ca-certificates                     2024.12.14-hbcca054_0 --> 2025.1.31-hbcca054_0 \n",
            "  conda                             24.11.2-py311h38be061_1 --> 24.11.3-py311h38be061_0 \n",
            "\n",
            "\n",
            "\n",
            "Downloading and Extracting Packages:\n",
            "scipy-1.15.1         | 18.3 MB   | :   0% 0/1 [00:00<?, ?it/s]\n",
            "numpy-2.2.2          | 8.6 MB    | :   0% 0/1 [00:00<?, ?it/s]\u001b[A\n",
            "\n",
            "libopenblas-0.3.28   | 5.3 MB    | :   0% 0/1 [00:00<?, ?it/s]\u001b[A\u001b[A\n",
            "\n",
            "\n",
            "libgfortran5-14.2.0  | 1.4 MB    | :   0% 0/1 [00:00<?, ?it/s]\u001b[A\u001b[A\u001b[A\n",
            "\n",
            "\n",
            "\n",
            "conda-24.11.3        | 1.1 MB    | :   0% 0/1 [00:00<?, ?it/s]\u001b[A\u001b[A\u001b[A\u001b[A\n",
            "\n",
            "\n",
            "\n",
            "\n",
            "fa2-0.3.5            | 97 KB     | :   0% 0/1 [00:00<?, ?it/s]\u001b[A\u001b[A\u001b[A\u001b[A\u001b[A\n",
            "\n",
            "\n",
            "\n",
            "\n",
            "\n",
            "libgfortran-14.2.0   | 53 KB     | :   0% 0/1 [00:00<?, ?it/s]\u001b[A\u001b[A\u001b[A\u001b[A\u001b[A\u001b[A\n",
            "\n",
            "\n",
            "\n",
            "\n",
            "\n",
            "\n",
            "libblas-3.9.0        | 16 KB     | :   0% 0/1 [00:00<?, ?it/s]\u001b[A\u001b[A\u001b[A\u001b[A\u001b[A\u001b[A\u001b[A\n",
            "\n",
            "\n",
            "\n",
            "\n",
            "\n",
            "\n",
            "\n",
            "liblapack-3.9.0      | 16 KB     | :   0% 0/1 [00:00<?, ?it/s]\u001b[A\u001b[A\u001b[A\u001b[A\u001b[A\u001b[A\u001b[A\u001b[A\n",
            "\n",
            "\n",
            "\n",
            "\n",
            "\n",
            "\n",
            "\n",
            "\n",
            "libcblas-3.9.0       | 16 KB     | :   0% 0/1 [00:00<?, ?it/s]\u001b[A\u001b[A\u001b[A\u001b[A\u001b[A\u001b[A\u001b[A\u001b[A\u001b[A\n",
            "\n",
            "\n",
            "scipy-1.15.1         | 18.3 MB   | :   3% 0.025555909401098365/1 [00:00<00:03,  3.97s/it]\n",
            "\n",
            "libopenblas-0.3.28   | 5.3 MB    | :  22% 0.21733677056950482/1 [00:00<00:00,  2.16it/s]\u001b[A\u001b[A\n",
            "\n",
            "\n",
            "\n",
            "conda-24.11.3        | 1.1 MB    | :   1% 0.01364371451460054/1 [00:00<00:11, 11.18s/it]\u001b[A\u001b[A\u001b[A\u001b[A\n",
            "\n",
            "\n",
            "\n",
            "scipy-1.15.1         | 18.3 MB   | :  32% 0.3151895492802132/1 [00:00<00:00,  1.80it/s]  \n",
            "\n",
            "libopenblas-0.3.28   | 5.3 MB    | : 100% 1.0/1 [00:00<00:00,  4.33it/s]                \u001b[A\u001b[A\n",
            "\n",
            "libopenblas-0.3.28   | 5.3 MB    | : 100% 1.0/1 [00:00<00:00,  4.33it/s]\u001b[A\u001b[A\n",
            "\n",
            "\n",
            "\n",
            "\n",
            "\n",
            "libgfortran-14.2.0   | 53 KB     | :  30% 0.30342426431098024/1 [00:00<00:00,  1.23it/s]\u001b[A\u001b[A\u001b[A\u001b[A\u001b[A\u001b[A\n",
            "\n",
            "\n",
            "\n",
            "\n",
            "\n",
            "libgfortran-14.2.0   | 53 KB     | : 100% 1.0/1 [00:00<00:00,  1.23it/s]                \u001b[A\u001b[A\u001b[A\u001b[A\u001b[A\u001b[A\n",
            "\n",
            "\n",
            "libgfortran5-14.2.0  | 1.4 MB    | : 100% 1.0/1 [00:00<00:00,  3.61it/s]\u001b[A\u001b[A\u001b[A\n",
            "\n",
            "\n",
            "libgfortran5-14.2.0  | 1.4 MB    | : 100% 1.0/1 [00:00<00:00,  3.61it/s]\u001b[A\u001b[A\u001b[A\n",
            "\n",
            "\n",
            "\n",
            "\n",
            "\n",
            "\n",
            "libblas-3.9.0        | 16 KB     | :  99% 0.9857409301486072/1 [00:00<00:00,  3.50it/s]\u001b[A\u001b[A\u001b[A\u001b[A\u001b[A\u001b[A\u001b[A\n",
            "\n",
            "\n",
            "\n",
            "\n",
            "\n",
            "\n",
            "scipy-1.15.1         | 18.3 MB   | :  61% 0.6099343710395476/1 [00:00<00:00,  2.32it/s]\n",
            "\n",
            "\n",
            "\n",
            "\n",
            "\n",
            "\n",
            "\n",
            "liblapack-3.9.0      | 16 KB     | :  99% 0.9897903703256208/1 [00:00<00:00,  3.23it/s]\u001b[A\u001b[A\u001b[A\u001b[A\u001b[A\u001b[A\u001b[A\u001b[A\n",
            "\n",
            "\n",
            "\n",
            "\n",
            "\n",
            "\n",
            "\n",
            "liblapack-3.9.0      | 16 KB     | : 100% 1.0/1 [00:00<00:00,  3.23it/s]               \u001b[A\u001b[A\u001b[A\u001b[A\u001b[A\u001b[A\u001b[A\u001b[A\n",
            "\n",
            "\n",
            "\n",
            "\n",
            "fa2-0.3.5            | 97 KB     | :  16% 0.1648140510416562/1 [00:00<00:01,  1.94s/it]\u001b[A\u001b[A\u001b[A\u001b[A\u001b[A\n",
            "\n",
            "\n",
            "\n",
            "\n",
            "fa2-0.3.5            | 97 KB     | : 100% 1.0/1 [00:00<00:00,  1.94s/it]               \u001b[A\u001b[A\u001b[A\u001b[A\u001b[A\n",
            "\n",
            "\n",
            "\n",
            "\n",
            "\n",
            "\n",
            "\n",
            "\n",
            "libcblas-3.9.0       | 16 KB     | :  99% 0.9906282121047222/1 [00:00<00:00,  3.08it/s]\u001b[A\u001b[A\u001b[A\u001b[A\u001b[A\u001b[A\u001b[A\u001b[A\u001b[A\n",
            "\n",
            "\n",
            "\n",
            "\n",
            "\n",
            "\n",
            "\n",
            "\n",
            "libcblas-3.9.0       | 16 KB     | : 100% 1.0/1 [00:00<00:00,  3.08it/s]               \u001b[A\u001b[A\u001b[A\u001b[A\u001b[A\u001b[A\u001b[A\u001b[A\u001b[A\n",
            "scipy-1.15.1         | 18.3 MB   | :  96% 0.9609021934812986/1 [00:00<00:00,  2.79it/s]\n",
            "numpy-2.2.2          | 8.6 MB    | :   2% 0.0235205150766643/1 [00:00<00:15, 16.03s/it]    \u001b[A\n",
            "scipy-1.15.1         | 18.3 MB   | : 100% 1.0/1 [00:00<00:00,  2.79it/s]               \n",
            "\n",
            "libopenblas-0.3.28   | 5.3 MB    | : 100% 1.0/1 [00:00<00:00,  4.33it/s]\u001b[A\u001b[A\n",
            "\n",
            "\n",
            "\n",
            "\n",
            "\n",
            "libgfortran-14.2.0   | 53 KB     | : 100% 1.0/1 [00:00<00:00,  1.60it/s]\u001b[A\u001b[A\u001b[A\u001b[A\u001b[A\u001b[A\n",
            "\n",
            "\n",
            "\n",
            "\n",
            "\n",
            "libgfortran-14.2.0   | 53 KB     | : 100% 1.0/1 [00:00<00:00,  1.60it/s]\u001b[A\u001b[A\u001b[A\u001b[A\u001b[A\u001b[A\n",
            "\n",
            "\n",
            "\n",
            "\n",
            "\n",
            "\n",
            "libblas-3.9.0        | 16 KB     | : 100% 1.0/1 [00:00<00:00,  3.50it/s]\u001b[A\u001b[A\u001b[A\u001b[A\u001b[A\u001b[A\u001b[A\n",
            "\n",
            "\n",
            "\n",
            "conda-24.11.3        | 1.1 MB    | : 100% 1.0/1 [00:00<00:00,  1.56it/s]\u001b[A\u001b[A\u001b[A\u001b[A\n",
            "\n",
            "\n",
            "\n",
            "conda-24.11.3        | 1.1 MB    | : 100% 1.0/1 [00:00<00:00,  1.56it/s]\u001b[A\u001b[A\u001b[A\u001b[A\n",
            "\n",
            "\n",
            "\n",
            "\n",
            "\n",
            "\n",
            "\n",
            "liblapack-3.9.0      | 16 KB     | : 100% 1.0/1 [00:00<00:00,  3.23it/s]\u001b[A\u001b[A\u001b[A\u001b[A\u001b[A\u001b[A\u001b[A\u001b[A\n",
            "\n",
            "\n",
            "\n",
            "\n",
            "\n",
            "\n",
            "\n",
            "\n",
            "libcblas-3.9.0       | 16 KB     | : 100% 1.0/1 [00:00<00:00,  3.08it/s]\u001b[A\u001b[A\u001b[A\u001b[A\u001b[A\u001b[A\u001b[A\u001b[A\u001b[A\n",
            "\n",
            "\n",
            "\n",
            "\n",
            "fa2-0.3.5            | 97 KB     | : 100% 1.0/1 [00:00<00:00,  1.52it/s]\u001b[A\u001b[A\u001b[A\u001b[A\u001b[A\n",
            "\n",
            "\n",
            "\n",
            "\n",
            "fa2-0.3.5            | 97 KB     | : 100% 1.0/1 [00:00<00:00,  1.52it/s]\u001b[A\u001b[A\u001b[A\u001b[A\u001b[A\n",
            "numpy-2.2.2          | 8.6 MB    | :   9% 0.085035708354094/1 [00:00<00:07,  7.88s/it]  \u001b[A\n",
            "numpy-2.2.2          | 8.6 MB    | :  10% 0.10493768264973302/1 [00:01<00:08,  9.05s/it]\u001b[A\n",
            "numpy-2.2.2          | 8.6 MB    | :  14% 0.13750454967896053/1 [00:01<00:05,  6.54s/it]\u001b[A\n",
            "scipy-1.15.1         | 18.3 MB   | : 100% 1.0/1 [00:01<00:00,  2.79it/s]\n",
            "numpy-2.2.2          | 8.6 MB    | :  21% 0.2116846356899787/1 [00:01<00:03,  5.07s/it] \u001b[A\n",
            "numpy-2.2.2          | 8.6 MB    | :  24% 0.235205150766643/1 [00:01<00:03,  5.12s/it] \u001b[A\n",
            "numpy-2.2.2          | 8.6 MB    | :  26% 0.25691639545279465/1 [00:01<00:04,  5.47s/it]\u001b[A\n",
            "numpy-2.2.2          | 8.6 MB    | :  28% 0.27681836974843366/1 [00:01<00:03,  5.53s/it]\u001b[A\n",
            "numpy-2.2.2          | 8.6 MB    | :  31% 0.31300377755868647/1 [00:01<00:03,  4.47s/it]\u001b[A\n",
            "numpy-2.2.2          | 8.6 MB    | :  34% 0.33833356302586337/1 [00:02<00:02,  4.33s/it]\u001b[A\n",
            "numpy-2.2.2          | 8.6 MB    | :  37% 0.3745189708361161/1 [00:02<00:02,  4.36s/it] \u001b[A\n",
            "numpy-2.2.2          | 8.6 MB    | :  42% 0.42156000098944474/1 [00:02<00:02,  3.57s/it]\u001b[A\n",
            "numpy-2.2.2          | 8.6 MB    | :  45% 0.4523175976281596/1 [00:02<00:02,  4.34s/it] \u001b[A\n",
            "numpy-2.2.2          | 8.6 MB    | :  51% 0.5084049797340514/1 [00:02<00:01,  3.33s/it]\u001b[A\n",
            "numpy-2.2.2          | 8.6 MB    | :  54% 0.5427811171537915/1 [00:02<00:01,  3.97s/it]\u001b[A\n",
            "numpy-2.2.2          | 8.6 MB    | :  58% 0.5771572545735316/1 [00:02<00:01,  3.92s/it]\u001b[A\n",
            "numpy-2.2.2          | 8.6 MB    | :  61% 0.6133426623837844/1 [00:03<00:01,  4.18s/it]\u001b[A\n",
            "numpy-2.2.2          | 8.6 MB    | :  66% 0.6567651517560877/1 [00:03<00:01,  3.68s/it]\u001b[A\n",
            "numpy-2.2.2          | 8.6 MB    | :  70% 0.700187641128391/1 [00:03<00:01,  3.80s/it] \u001b[A\n",
            "numpy-2.2.2          | 8.6 MB    | :  76% 0.7617028344058208/1 [00:03<00:00,  3.46s/it]\u001b[A\n",
            "numpy-2.2.2          | 8.6 MB    | :  84% 0.8449292723694021/1 [00:03<00:00,  2.98s/it]\u001b[A\n",
            "numpy-2.2.2          | 8.6 MB    | :  88% 0.8847332209606802/1 [00:03<00:00,  2.91s/it]\u001b[A\n",
            "numpy-2.2.2          | 8.6 MB    | :  92% 0.9209186287709329/1 [00:04<00:00,  4.11s/it]\u001b[A\n",
            "numpy-2.2.2          | 8.6 MB    | : 100% 1.0/1 [00:04<00:00,  4.11s/it]               \u001b[A\n",
            "numpy-2.2.2          | 8.6 MB    | : 100% 1.0/1 [00:04<00:00,  5.13s/it]\u001b[A\n",
            "                                                                        \n",
            "                                                                        \u001b[A\n",
            "\n",
            "                                                                        \u001b[A\u001b[A\n",
            "\n",
            "\n",
            "                                                                        \u001b[A\u001b[A\u001b[A\n",
            "\n",
            "\n",
            "\n",
            "                                                                        \u001b[A\u001b[A\u001b[A\u001b[A\n",
            "\n",
            "\n",
            "\n",
            "\n",
            "                                                                        \u001b[A\u001b[A\u001b[A\u001b[A\u001b[A\n",
            "\n",
            "\n",
            "\n",
            "\n",
            "\n",
            "                                                                        \u001b[A\u001b[A\u001b[A\u001b[A\u001b[A\u001b[A\n",
            "\n",
            "\n",
            "\n",
            "\n",
            "\n",
            "\n",
            "                                                                        \u001b[A\u001b[A\u001b[A\u001b[A\u001b[A\u001b[A\u001b[A\n",
            "\n",
            "\n",
            "\n",
            "\n",
            "\n",
            "\n",
            "\n",
            "                                                                        \u001b[A\u001b[A\u001b[A\u001b[A\u001b[A\u001b[A\u001b[A\u001b[A\n",
            "\n",
            "\n",
            "\n",
            "\n",
            "\n",
            "\n",
            "\n",
            "\n",
            "                                                                        \u001b[A\u001b[A\u001b[A\u001b[A\u001b[A\u001b[A\u001b[A\u001b[A\u001b[A\n",
            "Preparing transaction: - \b\bdone\n",
            "Verifying transaction: | \b\b/ \b\b- \b\b\\ \b\b| \b\b/ \b\b- \b\bdone\n",
            "Executing transaction: | \b\b/ \b\b- \b\b\\ \b\b| \b\bdone\n"
          ]
        }
      ]
    },
    {
      "cell_type": "code",
      "source": [
        "!pip install scanpy"
      ],
      "metadata": {
        "colab": {
          "base_uri": "https://localhost:8080/"
        },
        "id": "zwyBmpjYgBuk",
        "outputId": "6e4212a2-4568-4ba3-f6b5-e3518269efae"
      },
      "execution_count": 4,
      "outputs": [
        {
          "output_type": "stream",
          "name": "stdout",
          "text": [
            "Requirement already satisfied: scanpy in /usr/local/lib/python3.11/site-packages (1.10.4)\n",
            "Requirement already satisfied: anndata>=0.8 in /usr/local/lib/python3.11/site-packages (from scanpy) (0.11.3)\n",
            "Requirement already satisfied: h5py>=3.6 in /usr/local/lib/python3.11/site-packages (from scanpy) (3.12.1)\n",
            "Requirement already satisfied: joblib in /usr/local/lib/python3.11/site-packages (from scanpy) (1.4.2)\n",
            "Requirement already satisfied: legacy-api-wrap>=1.4 in /usr/local/lib/python3.11/site-packages (from scanpy) (1.4.1)\n",
            "Requirement already satisfied: matplotlib>=3.6 in /usr/local/lib/python3.11/site-packages (from scanpy) (3.10.0)\n",
            "Requirement already satisfied: natsort in /usr/local/lib/python3.11/site-packages (from scanpy) (8.4.0)\n",
            "Requirement already satisfied: networkx>=2.7 in /usr/local/lib/python3.11/site-packages (from scanpy) (3.4.2)\n",
            "Requirement already satisfied: numba>=0.56 in /usr/local/lib/python3.11/site-packages (from scanpy) (0.61.0)\n",
            "Requirement already satisfied: numpy>=1.23 in /usr/local/lib/python3.11/site-packages (from scanpy) (2.1.3)\n",
            "Requirement already satisfied: packaging>=21.3 in /usr/local/lib/python3.11/site-packages (from scanpy) (24.2)\n",
            "Requirement already satisfied: pandas>=1.5 in /usr/local/lib/python3.11/site-packages (from scanpy) (2.2.3)\n",
            "Requirement already satisfied: patsy!=1.0.0 in /usr/local/lib/python3.11/site-packages (from scanpy) (1.0.1)\n",
            "Requirement already satisfied: pynndescent>=0.5 in /usr/local/lib/python3.11/site-packages (from scanpy) (0.5.13)\n",
            "Requirement already satisfied: scikit-learn>=1.1 in /usr/local/lib/python3.11/site-packages (from scanpy) (1.6.1)\n",
            "Requirement already satisfied: scipy>=1.8 in /usr/local/lib/python3.11/site-packages (from scanpy) (1.15.1)\n",
            "Requirement already satisfied: seaborn>=0.13 in /usr/local/lib/python3.11/site-packages (from scanpy) (0.13.2)\n",
            "Requirement already satisfied: session-info in /usr/local/lib/python3.11/site-packages (from scanpy) (1.0.0)\n",
            "Requirement already satisfied: statsmodels>=0.13 in /usr/local/lib/python3.11/site-packages (from scanpy) (0.14.4)\n",
            "Requirement already satisfied: tqdm in /usr/local/lib/python3.11/site-packages (from scanpy) (4.67.1)\n",
            "Requirement already satisfied: umap-learn!=0.5.0,>=0.5 in /usr/local/lib/python3.11/site-packages (from scanpy) (0.5.7)\n",
            "Requirement already satisfied: array-api-compat!=1.5,>1.4 in /usr/local/lib/python3.11/site-packages (from anndata>=0.8->scanpy) (1.10.0)\n",
            "Requirement already satisfied: contourpy>=1.0.1 in /usr/local/lib/python3.11/site-packages (from matplotlib>=3.6->scanpy) (1.3.1)\n",
            "Requirement already satisfied: cycler>=0.10 in /usr/local/lib/python3.11/site-packages (from matplotlib>=3.6->scanpy) (0.12.1)\n",
            "Requirement already satisfied: fonttools>=4.22.0 in /usr/local/lib/python3.11/site-packages (from matplotlib>=3.6->scanpy) (4.55.8)\n",
            "Requirement already satisfied: kiwisolver>=1.3.1 in /usr/local/lib/python3.11/site-packages (from matplotlib>=3.6->scanpy) (1.4.8)\n",
            "Requirement already satisfied: pillow>=8 in /usr/local/lib/python3.11/site-packages (from matplotlib>=3.6->scanpy) (11.1.0)\n",
            "Requirement already satisfied: pyparsing>=2.3.1 in /usr/local/lib/python3.11/site-packages (from matplotlib>=3.6->scanpy) (3.2.1)\n",
            "Requirement already satisfied: python-dateutil>=2.7 in /usr/local/lib/python3.11/site-packages (from matplotlib>=3.6->scanpy) (2.9.0.post0)\n",
            "Requirement already satisfied: llvmlite<0.45,>=0.44.0dev0 in /usr/local/lib/python3.11/site-packages (from numba>=0.56->scanpy) (0.44.0)\n",
            "Requirement already satisfied: pytz>=2020.1 in /usr/local/lib/python3.11/site-packages (from pandas>=1.5->scanpy) (2025.1)\n",
            "Requirement already satisfied: tzdata>=2022.7 in /usr/local/lib/python3.11/site-packages (from pandas>=1.5->scanpy) (2025.1)\n",
            "Requirement already satisfied: threadpoolctl>=3.1.0 in /usr/local/lib/python3.11/site-packages (from scikit-learn>=1.1->scanpy) (3.5.0)\n",
            "Requirement already satisfied: stdlib-list in /usr/local/lib/python3.11/site-packages (from session-info->scanpy) (0.11.0)\n",
            "Requirement already satisfied: six>=1.5 in /usr/local/lib/python3.11/site-packages (from python-dateutil>=2.7->matplotlib>=3.6->scanpy) (1.17.0)\n"
          ]
        }
      ]
    },
    {
      "cell_type": "code",
      "source": [
        "\n",
        "import matplotlib\n",
        "import matplotlib.pyplot as plt\n",
        "import seaborn as sns\n",
        "\n",
        "import numpy as np\n",
        "import pandas as pd\n",
        "import scanpy as sc\n",
        "import colorcet\n",
        "import sklearn.neighbors\n",
        "import scipy.sparse\n",
        "import umap.umap_ as umap\n",
        "from fa2 import ForceAtlas2"
      ],
      "metadata": {
        "id": "n_Mf5heJhstr"
      },
      "execution_count": 11,
      "outputs": []
    },
    {
      "cell_type": "code",
      "source": [],
      "metadata": {
        "id": "E_AI_VAGjMiy"
      },
      "execution_count": null,
      "outputs": []
    }
  ]
}