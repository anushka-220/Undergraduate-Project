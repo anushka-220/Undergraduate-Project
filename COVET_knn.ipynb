{
 "cells": [
  {
   "cell_type": "code",
   "execution_count": 6,
   "metadata": {},
   "outputs": [],
   "source": [
    "import os\n",
    "\n",
    "os.environ[\"CUDA_DEVICE_ORDER\"]=\"PCI_BUS_ID\"\n",
    "os.environ[\"CUDA_VISIBLE_DEVICES\"]=\"0\" # Change to -1 if you want to use CPU!\n",
    "\n",
    "import warnings\n",
    "warnings.filterwarnings('ignore')"
   ]
  },
  {
   "cell_type": "code",
   "execution_count": 7,
   "metadata": {},
   "outputs": [],
   "source": [
    "import matplotlib\n",
    "import matplotlib.pyplot as plt\n",
    "import seaborn as sns\n",
    "\n",
    "import numpy as np\n",
    "import pandas as pd\n",
    "import scanpy as sc\n",
    "import colorcet\n",
    "import sklearn.neighbors\n",
    "import scipy.sparse\n",
    "import umap.umap_ as umap\n",
    "from fa2 import ForceAtlas2"
   ]
  },
  {
   "cell_type": "code",
   "execution_count": null,
   "metadata": {},
   "outputs": [],
   "source": [
    "sc_data = sc.read_h5ad('/Users/anushka/Desktop/MERFISH_Data/sc_data.h5ad')\n",
    "st_data= sc.read_h5ad('/Users/anushka/Desktop/MERFISH_Data/st_data.h5ad')"
   ]
  },
  {
   "cell_type": "code",
   "execution_count": 9,
   "metadata": {},
   "outputs": [
    {
     "data": {
      "text/plain": [
       "AnnData object with n_obs × n_vars = 71183 × 30618\n",
       "    obs: 'aggr_num', 'umi.counts', 'gene.counts', 'library_id', 'tube_barcode', 'Seq_batch', 'Region', 'Lib_type', 'Gender', 'Donor', 'Amp_Name', 'Amp_Date', 'Amp_PCR_cyles', 'Lib_Name', 'Lib_Date', 'Replicate_Lib', 'Lib_PCR_cycles', 'Lib_PassFail', 'Cell_Capture', 'Lib_Cells', 'Mean_Reads_perCell', 'Median_Genes_perCell', 'Median_UMI_perCell', 'Saturation', 'Live_percent', 'Total_Cells', 'Live_Cells', 'method', 'exp_component_name', 'mapped_reads', 'unmapped_reads', 'nonconf_mapped_reads', 'total.reads', 'doublet.score', 'cluster_label', 'subclass_label', 'class_label', 'cell_type', 'cell_label'"
      ]
     },
     "execution_count": 9,
     "metadata": {},
     "output_type": "execute_result"
    }
   ],
   "source": [
    "sc_data"
   ]
  },
  {
   "cell_type": "code",
   "execution_count": null,
   "metadata": {},
   "outputs": [
    {
     "data": {
      "text/plain": [
       "AnnData object with n_obs × n_vars = 276556 × 254\n",
       "    obs: 'fovID', 'fov_x', 'fov_y', 'volume', 'center_x', 'center_y', 'slice_id', 'sample_id', 'label', 'subclass', 'class_label', 'cell_id', 'cell_type', 'batch', 'cell_label', 'Layer_Depth', 'Depth'\n",
       "    var: 'n_iso', 'highly_variable', 'means', 'dispersions', 'dispersions_norm'\n",
       "    obsm: 'spatial'"
      ]
     },
     "execution_count": 10,
     "metadata": {},
     "output_type": "execute_result"
    }
   ],
   "source": [
    "st_data"
   ]
  },
  {
   "cell_type": "code",
   "execution_count": 11,
   "metadata": {},
   "outputs": [],
   "source": [
    "import numpy as np\n",
    "from sklearn.neighbors import NearestNeighbors\n",
    "import numpy as np\n",
    "from scipy.linalg import sqrtm\n",
    "\n",
    "def calculate_covet(expression_matrix, spatial_coordinates, k=8):\n",
    "    # Find spatial nearest neighbors\n",
    "    nn = NearestNeighbors(n_neighbors=k, metric='euclidean')\n",
    "    nn.fit(spatial_coordinates)\n",
    "    _, indices = nn.kneighbors(spatial_coordinates)\n",
    "    \n",
    "    # Calculate global mean\n",
    "    global_mean = np.mean(expression_matrix, axis=0)\n",
    "    \n",
    "    # Calculate COVET matrices\n",
    "    covet_matrices = []\n",
    "    for idx in indices:\n",
    "        niche_matrix = expression_matrix[idx]\n",
    "        shifted_matrix = niche_matrix - global_mean\n",
    "        covet = np.dot(shifted_matrix.T, shifted_matrix) / k\n",
    "        covet_matrices.append(covet)\n",
    "    \n",
    "    return np.array(covet_matrices)\n",
    "\n",
    "\n",
    "def aot_distance(covet1, covet2, epsilon=0.1, max_iter=100):\n",
    "    \"\"\"\n",
    "    Calculate the Approximate Optimal Transport distance between two COVET matrices.\n",
    "    \n",
    "    Args:\n",
    "    covet1, covet2: Input COVET matrices\n",
    "    epsilon: Regularization parameter\n",
    "    max_iter: Maximum number of iterations for Sinkhorn algorithm\n",
    "    \n",
    "    Returns:\n",
    "    float: AOT distance between covet1 and covet2\n",
    "    \"\"\"\n",
    "    # Ensure matrices are positive semi-definite\n",
    "    covet1 = np.maximum(covet1, 0)\n",
    "    covet2 = np.maximum(covet2, 0)\n",
    "    \n",
    "    # Calculate matrix square roots\n",
    "    sqrt_covet1 = sqrtm(covet1)\n",
    "    sqrt_covet2 = sqrtm(covet2)\n",
    "    \n",
    "    # Calculate the product of square roots\n",
    "    product = np.dot(sqrt_covet1, sqrt_covet2)\n",
    "    \n",
    "    # Compute the trace\n",
    "    trace_term = np.trace(covet1 + covet2 - 2 * sqrtm(product))\n",
    "    \n",
    "    # Sinkhorn iteration for entropic regularization\n",
    "    n = covet1.shape[0]\n",
    "    K = np.exp(-trace_term / epsilon)\n",
    "    u = np.ones(n) / n\n",
    "    v = np.ones(n) / n\n",
    "    \n",
    "    for _ in range(max_iter):\n",
    "        u = 1 / np.dot(K, v)\n",
    "        v = 1 / np.dot(K.T, u)\n",
    "    \n",
    "    # Compute final distance\n",
    "    pi = np.diag(u) @ K @ np.diag(v)\n",
    "    distance = np.sum(pi * trace_term)\n",
    "    \n",
    "    return np.sqrt(distance)\n",
    "\n",
    "\n",
    "\n",
    "def get_covet_knn_matrix(covet_matrices, k=8):\n",
    "    n_cells = len(covet_matrices)\n",
    "    distance_matrix = np.zeros((n_cells, n_cells))\n",
    "    \n",
    "    # Calculate pairwise distances\n",
    "    for i in range(n_cells):\n",
    "        for j in range(i+1, n_cells):\n",
    "            dist = aot_distance(covet_matrices[i], covet_matrices[j])\n",
    "            distance_matrix[i, j] = distance_matrix[j, i] = dist\n",
    "    \n",
    "    # Find k nearest neighbors\n",
    "    nn = NearestNeighbors(n_neighbors=k, metric='precomputed')\n",
    "    nn.fit(distance_matrix)\n",
    "    \n",
    "    return nn.kneighbors(return_distance=False)\n",
    "\n",
    "\n",
    "\n"
   ]
  },
  {
   "cell_type": "code",
   "execution_count": 12,
   "metadata": {},
   "outputs": [],
   "source": [
    "import tensorflow as tf\n",
    "def gpu_calculate_covet(expression_matrix, spatial_coordinates, k=8):\n",
    "    device = tf.device(\"/MPS:0\" if tf.config.list_physical_devices('MPS') else \"/CPU:0\")\n",
    "\n",
    "    with device:\n",
    "        expression_matrix = tf.convert_to_tensor(expression_matrix, dtype=tf.float32)\n",
    "        spatial_coordinates = tf.convert_to_tensor(spatial_coordinates, dtype=tf.float32)\n",
    "\n",
    "        # Find spatial nearest neighbors\n",
    "        nn = NearestNeighbors(n_neighbors=k, metric='euclidean')\n",
    "        nn.fit(spatial_coordinates.numpy())\n",
    "        _, indices = nn.kneighbors(spatial_coordinates.numpy())\n",
    "\n",
    "        # Calculate global mean\n",
    "        global_mean = tf.reduce_mean(expression_matrix, axis=0)\n",
    "\n",
    "        # Calculate COVET matrices\n",
    "        covet_matrices = []\n",
    "        for idx in indices:\n",
    "            niche_matrix = tf.gather(expression_matrix, idx)\n",
    "            shifted_matrix = niche_matrix - global_mean\n",
    "            covet = tf.matmul(tf.transpose(shifted_matrix), shifted_matrix) / k\n",
    "            covet_matrices.append(covet)\n",
    "\n",
    "        return tf.stack(covet_matrices)"
   ]
  },
  {
   "cell_type": "code",
   "execution_count": null,
   "metadata": {},
   "outputs": [
    {
     "name": "stderr",
     "output_type": "stream",
     "text": [
      "Exception ignored in: <bound method IPythonKernel._clean_thread_parent_frames of <ipykernel.ipkernel.IPythonKernel object at 0x1189c9730>>\n",
      "Traceback (most recent call last):\n",
      "  File \"/opt/anaconda3/envs/octopus/lib/python3.9/site-packages/ipykernel/ipkernel.py\", line 775, in _clean_thread_parent_frames\n",
      "    def _clean_thread_parent_frames(\n",
      "KeyboardInterrupt: \n"
     ]
    }
   ],
   "source": [
    "expression_matrix = sc_data\n",
    "spatial_coordinates = st_data\n",
    "\n",
    "# Example usage\n",
    "covet_matrices = gpu_calculate_covet(expression_matrix, spatial_coordinates)"
   ]
  },
  {
   "cell_type": "code",
   "execution_count": null,
   "metadata": {},
   "outputs": [],
   "source": [
    "covet_matrices = calculate_covet(expression_matrix, spatial_coordinates)"
   ]
  },
  {
   "cell_type": "code",
   "execution_count": null,
   "metadata": {},
   "outputs": [],
   "source": [
    "knn_matrix = get_covet_knn_matrix(covet_matrices)"
   ]
  }
 ],
 "metadata": {
  "kernelspec": {
   "display_name": "octopus",
   "language": "python",
   "name": "python3"
  },
  "language_info": {
   "codemirror_mode": {
    "name": "ipython",
    "version": 3
   },
   "file_extension": ".py",
   "mimetype": "text/x-python",
   "name": "python",
   "nbconvert_exporter": "python",
   "pygments_lexer": "ipython3",
   "version": "3.9.18"
  }
 },
 "nbformat": 4,
 "nbformat_minor": 2
}
