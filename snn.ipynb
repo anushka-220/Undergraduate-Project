{
 "cells": [
  {
   "cell_type": "code",
   "execution_count": null,
   "metadata": {},
   "outputs": [
    {
     "name": "stdout",
     "output_type": "stream",
     "text": [
      "NpzFile '/Users/anushka/Undergraduate-Project/ndarrays/sc_data_ndarray.npz' with keys: envi_latent, COVET_SQRT\n"
     ]
    }
   ],
   "source": [
    "import numpy as np\n",
    "data_sc = np.load('/Users/anushka/Undergraduate-Project/ndarrays/sc_data_ndarray.npz')\n",
    "data_st=np.load('/Users/anushka/Undergraduate-Project/ndarrays/st_data_ndarray.npz')\n",
    "envi_latent_sc = data_sc['envi_latent']  \n",
    "covet_sqrt_sc = data_sc['COVET_SQRT']  \n",
    "envi_latent_st = data_st['envi_latent'] \n",
    "covet_sqrt_st = data_st['COVET_SQRT'] \n",
    "\n",
    "\n"
   ]
  },
  {
   "cell_type": "code",
   "execution_count": 12,
   "metadata": {},
   "outputs": [],
   "source": [
    "envi_latent_combined = np.concatenate((envi_latent_sc, envi_latent_st), axis=0)"
   ]
  },
  {
   "cell_type": "code",
   "execution_count": 16,
   "metadata": {},
   "outputs": [
    {
     "data": {
      "text/plain": [
       "(7416, 62, 62)"
      ]
     },
     "execution_count": 16,
     "metadata": {},
     "output_type": "execute_result"
    }
   ],
   "source": [
    "covet_sqrt_sc.shape\n"
   ]
  },
  {
   "cell_type": "code",
   "execution_count": 17,
   "metadata": {},
   "outputs": [
    {
     "data": {
      "text/plain": [
       "(18516, 62, 64)"
      ]
     },
     "execution_count": 17,
     "metadata": {},
     "output_type": "execute_result"
    }
   ],
   "source": [
    "covet_sqrt_st.shape"
   ]
  },
  {
   "cell_type": "markdown",
   "metadata": {},
   "source": [
    "### Pad covet_sqrt_sc to 64"
   ]
  },
  {
   "cell_type": "code",
   "execution_count": 18,
   "metadata": {},
   "outputs": [],
   "source": [
    "covet_sqrt_sc_padded = np.pad(covet_sqrt_sc, ((0, 0), (0, 0), (0, 2)), mode='constant')\n",
    "covet_sqrt_combined = np.concatenate((covet_sqrt_sc_padded, covet_sqrt_st), axis=0)\n"
   ]
  },
  {
   "cell_type": "markdown",
   "metadata": {},
   "source": [
    "### Flatten covet_sqrt_combined"
   ]
  },
  {
   "cell_type": "code",
   "execution_count": 19,
   "metadata": {},
   "outputs": [
    {
     "name": "stdout",
     "output_type": "stream",
     "text": [
      " Flattening COVET_SQRT matrix...\n",
      " Flattened COVET_SQRT to shape (25932, 3968)\n"
     ]
    }
   ],
   "source": [
    "print(\" Flattening COVET_SQRT matrix...\")\n",
    "covet_sqrt_flattened = covet_sqrt_combined.reshape(covet_sqrt_combined.shape[0], -1)\n",
    "print(f\" Flattened COVET_SQRT to shape {covet_sqrt_flattened.shape}\")"
   ]
  },
  {
   "cell_type": "code",
   "execution_count": 21,
   "metadata": {},
   "outputs": [],
   "source": [
    "import numpy as np\n",
    "from sklearn.decomposition import PCA\n",
    "from sklearn.neighbors import NearestNeighbors\n",
    "from tqdm import tqdm  # Import tqdm for progress bar\n",
    "\n",
    "def apply_pca(X: np.ndarray, n_components: int = 100):\n",
    "    \"\"\"\n",
    "    Applies PCA to reduce dimensionality of the dataset.\n",
    "\n",
    "    Parameters:\n",
    "    - X (np.ndarray): Input data matrix of shape (n_samples, n_features).\n",
    "    - n_components (int): Number of principal components to keep.\n",
    "\n",
    "    Returns:\n",
    "    - X_pca (np.ndarray): Transformed data matrix with reduced dimensions.\n",
    "    \"\"\"\n",
    "    print(f\"Applying PCA: Reducing {X.shape[1]} dimensions to {n_components}...\")\n",
    "    pca = PCA(n_components=n_components, random_state=42)\n",
    "    X_pca = pca.fit_transform(X)\n",
    "    print(f\"PCA complete. Reduced shape: {X_pca.shape}\")\n",
    "    return X_pca\n",
    "\n",
    "def compute_knn_indices(X: np.ndarray, n_neighbors: int):\n",
    "    \"\"\"\n",
    "    Computes the k-nearest neighbors (KNN) indices and distances for a given dataset.\n",
    "    \"\"\"\n",
    "    print(f\"Computing KNN for data of shape {X.shape} with {n_neighbors} neighbors...\")\n",
    "    \n",
    "    nbrs = NearestNeighbors(n_neighbors=n_neighbors, algorithm='ball_tree', n_jobs=-1).fit(X)\n",
    "    distances, indices = nbrs.kneighbors(X)  # Efficient KNN computation\n",
    "\n",
    "    print(\"KNN computation complete.\")\n",
    "    return indices, distances\n",
    "\n",
    "def snn_matrix(indices: np.ndarray, n_neighbors: int):\n",
    "    \"\"\"\n",
    "    Computes the Shared Nearest Neighbor (SNN) similarity matrix.\n",
    "    \"\"\"\n",
    "    print(f\"Computing SNN matrix for {indices.shape[0]} samples...\")\n",
    "    n_samples = indices.shape[0]\n",
    "    snn = np.zeros((n_samples, n_samples), dtype=np.float32)\n",
    "    \n",
    "    for i in tqdm(range(n_samples), desc=\"SNN Computation\", unit=\"samples\"):\n",
    "        for j in range(i + 1, n_samples):\n",
    "            nni = indices[i]\n",
    "            nnj = indices[j]\n",
    "            shared = np.intersect1d(nni, nnj)\n",
    "            \n",
    "            s = [0]\n",
    "            for shared_knn in shared:\n",
    "                s.append(n_neighbors - 0.5 * (np.where(nni == shared_knn)[0][0] + np.where(nnj == shared_knn)[0][0]))\n",
    "            \n",
    "            snn[i, j] = max(s)\n",
    "            snn[j, i] = snn[i, j]  # Ensure symmetry\n",
    "    \n",
    "    print(\"SNN matrix computation complete.\")\n",
    "    return snn\n",
    "\n",
    "def calculate_final_snn(snn_1: np.ndarray, snn_2: np.ndarray):\n",
    "    \"\"\"\n",
    "    Merges two SNN matrices by computing their element-wise mean.\n",
    "    \"\"\"\n",
    "    print(\"Merging two SNN matrices...\")\n",
    "\n",
    "    mask = (snn_1 == 0) | (snn_2 == 0)\n",
    "    snn_1 = snn_1.astype(float)\n",
    "    snn_2 = snn_2.astype(float)\n",
    "\n",
    "    snn_1[mask] = np.nan\n",
    "    snn_2[mask] = np.nan\n",
    "\n",
    "    # Compute element-wise mean efficiently\n",
    "    final_snn = np.nanmean(np.stack((snn_1, snn_2), axis=0), axis=0)\n",
    "\n",
    "    # Replace NaN values with 0\n",
    "    final_snn[np.isnan(final_snn)] = 0\n",
    "\n",
    "    print(\"Final SNN matrix computation complete.\")\n",
    "    return final_snn\n",
    "\n",
    "def compute_snn(envi_latent_combined: np.ndarray, covet_sqrt_combined: np.ndarray, n_neighbors: int = 10, pca_components: int = 100):\n",
    "    \"\"\"\n",
    "    Computes the final Shared Nearest Neighbor (SNN) similarity matrix after applying PCA.\n",
    "    Also saves the individual SNN matrices before merging.\n",
    "    \"\"\"\n",
    "    print(\"Starting SNN computation...\")\n",
    "\n",
    "    # Apply PCA to reduce dimensionality\n",
    "    envi_latent_combined = apply_pca(envi_latent_combined, n_components=pca_components)\n",
    "    covet_sqrt_combined = apply_pca(covet_sqrt_combined, n_components=pca_components)\n",
    "\n",
    "    print(\"Processing covet_sqrt_combined matrix...\")\n",
    "    knn_indices_covet, _ = compute_knn_indices(covet_sqrt_combined, n_neighbors)\n",
    "    snn_covet = snn_matrix(knn_indices_covet, n_neighbors)\n",
    "\n",
    "    print(\"Processing envi_latent_combined matrix...\")\n",
    "    knn_indices_envi, _ = compute_knn_indices(envi_latent_combined, n_neighbors)\n",
    "    snn_envi = snn_matrix(knn_indices_envi, n_neighbors)\n",
    "\n",
    "    # ✅ Save SNN matrices before merging\n",
    "    np.save(\"snn_covet.npy\", snn_covet)\n",
    "    np.save(\"snn_envi.npy\", snn_envi)\n",
    "    print(\"Saved snn_covet.npy and snn_envi.npy successfully!\")\n",
    "\n",
    "    print(\"Combining SNN matrices to compute the final SNN matrix...\")\n",
    "    final_snn = calculate_final_snn(snn_covet, snn_envi)\n",
    "\n",
    "    print(\"SNN computation completed successfully!\")\n",
    "    return final_snn\n"
   ]
  },
  {
   "cell_type": "code",
   "execution_count": 22,
   "metadata": {},
   "outputs": [
    {
     "name": "stdout",
     "output_type": "stream",
     "text": [
      "Starting SNN computation...\n",
      "Applying PCA: Reducing 512 dimensions to 100...\n",
      "PCA complete. Reduced shape: (25932, 100)\n",
      "Applying PCA: Reducing 3968 dimensions to 100...\n",
      "PCA complete. Reduced shape: (25932, 100)\n",
      "Processing covet_sqrt_combined matrix...\n",
      "Computing KNN for data of shape (25932, 100) with 10 neighbors...\n",
      "KNN computation complete.\n",
      "Computing SNN matrix for 25932 samples...\n"
     ]
    },
    {
     "name": "stderr",
     "output_type": "stream",
     "text": [
      "SNN Computation: 100%|██████████| 25932/25932 [40:08<00:00, 10.77samples/s]  \n"
     ]
    },
    {
     "name": "stdout",
     "output_type": "stream",
     "text": [
      "SNN matrix computation complete.\n",
      "Processing envi_latent_combined matrix...\n",
      "Computing KNN for data of shape (25932, 100) with 10 neighbors...\n",
      "KNN computation complete.\n",
      "Computing SNN matrix for 25932 samples...\n"
     ]
    },
    {
     "name": "stderr",
     "output_type": "stream",
     "text": [
      "SNN Computation: 100%|██████████| 25932/25932 [37:56<00:00, 11.39samples/s] \n"
     ]
    },
    {
     "name": "stdout",
     "output_type": "stream",
     "text": [
      "SNN matrix computation complete.\n",
      "Saved snn_covet.npy and snn_envi.npy successfully!\n",
      "Combining SNN matrices to compute the final SNN matrix...\n",
      "Merging two SNN matrices...\n"
     ]
    },
    {
     "name": "stderr",
     "output_type": "stream",
     "text": [
      "/var/folders/d4/bgr0tr5d43z2xmtq5hk3s4n00000gn/T/ipykernel_36001/2256179692.py:73: RuntimeWarning: Mean of empty slice\n",
      "  final_snn = np.nanmean(np.stack((snn_1, snn_2), axis=0), axis=0)\n"
     ]
    },
    {
     "name": "stdout",
     "output_type": "stream",
     "text": [
      "Final SNN matrix computation complete.\n",
      "SNN computation completed successfully!\n"
     ]
    }
   ],
   "source": [
    "\n",
    "#envi_latent_combined and covet_sqrt_combined should be NumPy arrays of shape (n_samples, n_features)\n",
    "final_snn = compute_snn(envi_latent_combined, covet_sqrt_flattened, n_neighbors=10)\n"
   ]
  },
  {
   "cell_type": "code",
   "execution_count": 23,
   "metadata": {},
   "outputs": [
    {
     "name": "stdout",
     "output_type": "stream",
     "text": [
      "Final SNN matrix saved to final_snn.npy\n"
     ]
    }
   ],
   "source": [
    "\n",
    "np.save(\"/Users/anushka/Undergraduate-Project/final_snn.npy\", final_snn)\n",
    "\n",
    "print(\"Final SNN matrix saved to final_snn.npy\")"
   ]
  }
 ],
 "metadata": {
  "kernelspec": {
   "display_name": "octopus",
   "language": "python",
   "name": "python3"
  },
  "language_info": {
   "codemirror_mode": {
    "name": "ipython",
    "version": 3
   },
   "file_extension": ".py",
   "mimetype": "text/x-python",
   "name": "python",
   "nbconvert_exporter": "python",
   "pygments_lexer": "ipython3",
   "version": "3.9.18"
  }
 },
 "nbformat": 4,
 "nbformat_minor": 2
}
